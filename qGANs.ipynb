{
 "cells": [
  {
   "cell_type": "code",
   "execution_count": 18,
   "id": "ec2c1a43",
   "metadata": {},
   "outputs": [],
   "source": [
    "from qiskit import *\n",
    "from qiskit.visualization import *\n",
    "import matplotlib.pyplot as plt\n",
    "import numpy as np\n",
    "import math\n",
    "simulator = BasicAer.get_backend('qasm_simulator')"
   ]
  },
  {
   "cell_type": "markdown",
   "id": "17e4c534",
   "metadata": {},
   "source": [
    "# Quantum Generative Adversarial Networks (qGANs)\n",
    "\n",
    "Preparing discrete probability distributions using qGANs. \n",
    "\n",
    "$$$$\n",
    "\n",
    "$$|\\phi\\rangle = \\sum_{x=0}\\sqrt{p_x}|x\\rangle$$\n",
    "\n",
    "$$$$\n",
    "\n",
    "Some applications:\n",
    "\n",
    " * Generate artifficial data sets \n",
    "\n",
    " * Encoding data for QML models efficiently\n",
    " \n",
    " * Finance (option pricing)"
   ]
  },
  {
   "cell_type": "markdown",
   "id": "cc42cc55",
   "metadata": {},
   "source": [
    "### 1. Target distribution"
   ]
  },
  {
   "cell_type": "code",
   "execution_count": 19,
   "id": "5aad2f40",
   "metadata": {
    "scrolled": true
   },
   "outputs": [
    {
     "data": {
      "text/plain": [
       "<BarContainer object of 8 artists>"
      ]
     },
     "execution_count": 19,
     "metadata": {},
     "output_type": "execute_result"
    },
    {
     "data": {
      "image/png": "[encoded data removed]",
      "text/plain": [
       "<Figure size 432x288 with 1 Axes>"
      ]
     },
     "metadata": {
      "needs_background": "light"
     },
     "output_type": "display_data"
    }
   ],
   "source": [
    "prob_distr = [8, 40, 35, 20, 15, 10, 5, 5]\n",
    "#normalization \n",
    "prob_distr = [k/sum(prob_distr) for k in prob_distr]\n",
    "plt.bar(range(len(prob_distr)),prob_distr)"
   ]
  },
  {
   "cell_type": "markdown",
   "id": "e51328ed",
   "metadata": {},
   "source": [
    "### 2. Creating a hardware-efficient ansatz\n",
    "\n",
    "$$U_{\\vec{\\theta}}|\\psi_{in}\\rangle = |\\psi_{\\vec{\\theta}}\\rangle$$"
   ]
  },
  {
   "cell_type": "code",
   "execution_count": 20,
   "id": "88c76408",
   "metadata": {},
   "outputs": [],
   "source": [
    "def ansatz(param, num_layers):    \n",
    "    num_q = 3\n",
    "    qc = QuantumCircuit(num_q, num_q)    \n",
    "    for j in range(num_layers):        \n",
    "        for i in range(num_q):\n",
    "            qc.ry(param[i + j*num_q], i)        \n",
    "        if j < num_layers-1:            \n",
    "            qc.cx(0,1)\n",
    "            qc.cx(1,2)\n",
    "            qc.cx(2,0)\n",
    "    qc.barrier()\n",
    "    qc.measure(range(num_q), range(num_q))      \n",
    "    return qc"
   ]
  },
  {
   "cell_type": "code",
   "execution_count": 21,
   "id": "605e0122",
   "metadata": {},
   "outputs": [
    {
     "data": {
      "image/png": "[encoded data removed]",
      "text/plain": [
       "<Figure size 869.197x264.88 with 1 Axes>"
      ]
     },
     "execution_count": 21,
     "metadata": {},
     "output_type": "execute_result"
    }
   ],
   "source": [
    "ansatz(param = np.random.uniform(0, np.pi, 9), num_layers=3).draw('mpl',fold=-1)"
   ]
  },
  {
   "cell_type": "markdown",
   "id": "0e2d11a9",
   "metadata": {},
   "source": [
    "### 3. Loss functions used\n",
    "\n",
    "$$$$\n",
    "\n",
    "Mean squared error (MSE)\n",
    "\n",
    "$$ \\mathcal{L}_\\theta = \\sum_{i=0}(\\hat{p}_i^\\theta - y_i)^2 $$\n",
    "\n",
    "Empirical Risk\n",
    "\n",
    "$$ \\mathcal{L}_\\theta = \\sum_{i=0} | \\hat{p}_i^\\theta - y_i | $$\n",
    "\n",
    "Cross-entropy\n",
    "\n",
    "$$ \\mathcal{L}_\\theta = \\sum_{i=0} y_i\\log{p_i^\\theta} $$\n"
   ]
  },
  {
   "cell_type": "code",
   "execution_count": 22,
   "id": "6556e857",
   "metadata": {},
   "outputs": [],
   "source": [
    "num_layers = 5\n",
    "def loss_function(params):\n",
    "    \n",
    "    num_shots=1024\n",
    "    circ = ansatz(param=params, num_layers=num_layers)\n",
    "    counts = execute(circ, backend=simulator, shots=num_shots).result().get_counts(circ)\n",
    "    \n",
    "    strings = ['000','001','010','011','100','101','110','111']\n",
    "    \n",
    "    for i in strings:\n",
    "        if i not in counts:\n",
    "            counts[i] = 0\n",
    "    \n",
    "    p = [counts[string]/num_shots for string in strings]\n",
    "    \n",
    "    \"\"\"\n",
    "    cross_entropy = 0\n",
    "    for i in range(len(p)):\n",
    "        if p[i]>0:\n",
    "            cross_entropy -= prob_distr[i]*math.log2(p[i])\n",
    "    \n",
    "    return cross_entropy\n",
    "\n",
    "    \"\"\"\n",
    "    return sum([(p[i] - prob_distr[i])**2 for i in range(len(prob_distr))])\n",
    "    #return sum([abs(p[i] - prob_distr[i]) for i in range(len(prob_distr))])\n",
    "    #return sum([ prob_distr[i]*math.log2(p[i]) for i in range(len(prob_distr))])\n",
    "    "
   ]
  },
  {
   "cell_type": "code",
   "execution_count": 23,
   "id": "76cc5818",
   "metadata": {},
   "outputs": [
    {
     "data": {
      "text/plain": [
       "1.0764545263600085"
      ]
     },
     "execution_count": 23,
     "metadata": {},
     "output_type": "execute_result"
    }
   ],
   "source": [
    "num_params = 3*num_layers\n",
    "loss_function(params = np.zeros(num_params))"
   ]
  },
  {
   "cell_type": "markdown",
   "id": "c8c3e7e9",
   "metadata": {},
   "source": [
    "### 4. Training the quantum circuit"
   ]
  },
  {
   "cell_type": "code",
   "execution_count": 24,
   "id": "c28a18f4",
   "metadata": {},
   "outputs": [],
   "source": [
    "from qiskit.algorithms.optimizers import COBYLA,SLSQP,SPSA\n",
    "optimizer = COBYLA(250)\n",
    "ret = optimizer.optimize(num_vars=num_params, objective_function=loss_function, initial_point=np.ones(num_params))"
   ]
  },
  {
   "cell_type": "code",
   "execution_count": 25,
   "id": "d428e017",
   "metadata": {},
   "outputs": [],
   "source": [
    "num_shots = 1024\n",
    "\n",
    "trained_circ = ansatz(param=ret[0], num_layers=num_layers)\n",
    "counts = execute(trained_circ, backend=simulator, shots=num_shots).result().get_counts(trained_circ)\n",
    "strings = ['000','001','010','011','100','101','110','111']\n",
    "\n",
    "for k in strings:\n",
    "    if k not in counts:\n",
    "        counts[k]=0\n",
    "\n",
    "counts = [counts[i]/1024 for i in strings]\n"
   ]
  },
  {
   "cell_type": "code",
   "execution_count": 28,
   "id": "8c28031e",
   "metadata": {},
   "outputs": [
    {
     "data": {
      "image/png": "[encoded data removed]",
      "text/plain": [
       "<Figure size 432x288 with 1 Axes>"
      ]
     },
     "metadata": {
      "needs_background": "light"
     },
     "output_type": "display_data"
    }
   ],
   "source": [
    "plt.plot(range(len(counts)),counts, color='r')\n",
    "plt.bar(range(len(prob_distr)), prob_distr)\n",
    "plt.legend([\"qGAN approx.\", \"Reference\"])\n",
    "plt.title(\"Probability distributions\")\n",
    "plt.grid()"
   ]
  },
  {
   "cell_type": "code",
   "execution_count": null,
   "id": "8d2ac6bc",
   "metadata": {},
   "outputs": [],
   "source": []
  }
 ],
 "metadata": {
  "kernelspec": {
   "display_name": "Python 3.9.7 ('base')",
   "language": "python",
   "name": "python3"
  },
  "language_info": {
   "codemirror_mode": {
    "name": "ipython",
    "version": 3
   },
   "file_extension": ".py",
   "mimetype": "text/x-python",
   "name": "python",
   "nbconvert_exporter": "python",
   "pygments_lexer": "ipython3",
   "version": "3.9.7"
  },
  "vscode": {
   "interpreter": {
    "hash": "445da9f97fff3e9607fce724e9f5124fca1a39a333bfa2bf5db6a7377ace2fc6"
   }
  }
 },
 "nbformat": 4,
 "nbformat_minor": 5
}
